{
  "cells": [
    {
      "cell_type": "markdown",
      "source": [
        "## OpenCV 설치"
      ],
      "metadata": {
        "nteract": {
          "transient": {
            "deleting": false
          }
        }
      }
    },
    {
      "cell_type": "code",
      "source": [
        "import sys\n",
        "!{sys.executable} -m pip install opencv-python"
      ],
      "outputs": [],
      "execution_count": null,
      "metadata": {
        "gather": {
          "logged": 1729917451091
        }
      }
    },
    {
      "cell_type": "markdown",
      "source": [
        "# 기본 실습"
      ],
      "metadata": {
        "nteract": {
          "transient": {
            "deleting": false
          }
        }
      }
    },
    {
      "cell_type": "markdown",
      "source": [
        "## OpenCV import"
      ],
      "metadata": {
        "nteract": {
          "transient": {
            "deleting": false
          }
        }
      }
    },
    {
      "cell_type": "code",
      "source": [
        "import cv2\n",
        "import numpy as np\n",
        "from matplotlib import pyplot as plt"
      ],
      "outputs": [],
      "execution_count": null,
      "metadata": {
        "jupyter": {
          "source_hidden": false,
          "outputs_hidden": false
        },
        "nteract": {
          "transient": {
            "deleting": false
          }
        },
        "gather": {
          "logged": 1730115221600
        }
      }
    },
    {
      "cell_type": "markdown",
      "source": [
        "## 이미지 로드 및 확인"
      ],
      "metadata": {
        "nteract": {
          "transient": {
            "deleting": false
          }
        }
      }
    },
    {
      "cell_type": "code",
      "source": [
        "image = "
      ],
      "outputs": [],
      "execution_count": null,
      "metadata": {
        "jupyter": {
          "source_hidden": false,
          "outputs_hidden": false
        },
        "nteract": {
          "transient": {
            "deleting": false
          }
        },
        "gather": {
          "logged": 1730115223794
        }
      }
    },
    {
      "cell_type": "code",
      "source": [
        "if image is None :\n",
        "    print(\"Error : 이미지 읽기 실패\")"
      ],
      "outputs": [],
      "execution_count": null,
      "metadata": {
        "jupyter": {
          "source_hidden": false,
          "outputs_hidden": false
        },
        "nteract": {
          "transient": {
            "deleting": false
          }
        },
        "gather": {
          "logged": 1730036321018
        }
      }
    },
    {
      "cell_type": "markdown",
      "source": [
        "## 이미지 표시"
      ],
      "metadata": {
        "nteract": {
          "transient": {
            "deleting": false
          }
        }
      }
    },
    {
      "cell_type": "code",
      "source": [
        "# cv2.imshow('Image', image)\n",
        "# cv2.waitKey(0)\n",
        "# cv2.destroyAllWindows()"
      ],
      "outputs": [],
      "execution_count": null,
      "metadata": {
        "jupyter": {
          "source_hidden": false,
          "outputs_hidden": false
        },
        "nteract": {
          "transient": {
            "deleting": false
          }
        }
      }
    },
    {
      "cell_type": "code",
      "source": [
        "plt.imshow(image)\n",
        "plt.show()"
      ],
      "outputs": [],
      "execution_count": null,
      "metadata": {
        "jupyter": {
          "source_hidden": false,
          "outputs_hidden": false
        },
        "nteract": {
          "transient": {
            "deleting": false
          }
        },
        "gather": {
          "logged": 1730090016117
        }
      }
    },
    {
      "cell_type": "markdown",
      "source": [
        "## 컬러맵 변환"
      ],
      "metadata": {
        "nteract": {
          "transient": {
            "deleting": false
          }
        }
      }
    },
    {
      "cell_type": "markdown",
      "source": [
        "#### BGR2RGB"
      ],
      "metadata": {
        "nteract": {
          "transient": {
            "deleting": false
          }
        }
      }
    },
    {
      "cell_type": "code",
      "source": [
        "\n",
        "plt.show()"
      ],
      "outputs": [],
      "execution_count": null,
      "metadata": {
        "jupyter": {
          "source_hidden": false,
          "outputs_hidden": false
        },
        "nteract": {
          "transient": {
            "deleting": false
          }
        },
        "gather": {
          "logged": 1730090024295
        }
      }
    },
    {
      "cell_type": "markdown",
      "source": [
        "#### 그레이스케일 변환"
      ],
      "metadata": {
        "nteract": {
          "transient": {
            "deleting": false
          }
        }
      }
    },
    {
      "cell_type": "code",
      "source": [
        "\n",
        "\n",
        "plt.imshow(cv2.cvtColor(gray_image, cv2.COLOR_BGR2RGB))\n",
        "plt.show()"
      ],
      "outputs": [],
      "execution_count": null,
      "metadata": {
        "jupyter": {
          "source_hidden": false,
          "outputs_hidden": false
        },
        "nteract": {
          "transient": {
            "deleting": false
          }
        },
        "gather": {
          "logged": 1730115908424
        }
      }
    },
    {
      "cell_type": "markdown",
      "source": [
        "## 이미지 확인 및 저장"
      ],
      "metadata": {
        "nteract": {
          "transient": {
            "deleting": false
          }
        }
      }
    },
    {
      "cell_type": "markdown",
      "source": [
        "#### 이미지 형상 확인"
      ],
      "metadata": {
        "nteract": {
          "transient": {
            "deleting": false
          }
        }
      }
    },
    {
      "cell_type": "code",
      "source": [
        "print(\"Shape : \", image.shape)\n",
        "print(\"Size:\", image.size)\n",
        "print(\"Data Type:\", image.dtype)"
      ],
      "outputs": [],
      "execution_count": null,
      "metadata": {
        "jupyter": {
          "source_hidden": false,
          "outputs_hidden": false
        },
        "nteract": {
          "transient": {
            "deleting": false
          }
        },
        "gather": {
          "logged": 1730115912761
        }
      }
    },
    {
      "cell_type": "markdown",
      "source": [
        "#### 이미지 저장"
      ],
      "metadata": {
        "nteract": {
          "transient": {
            "deleting": false
          }
        }
      }
    },
    {
      "cell_type": "code",
      "source": [],
      "outputs": [],
      "execution_count": null,
      "metadata": {
        "jupyter": {
          "source_hidden": false,
          "outputs_hidden": false
        },
        "nteract": {
          "transient": {
            "deleting": false
          }
        },
        "gather": {
          "logged": 1730115920632
        }
      }
    },
    {
      "cell_type": "markdown",
      "source": [
        "## 이미지 표시 함수 구현"
      ],
      "metadata": {
        "nteract": {
          "transient": {
            "deleting": false
          }
        }
      }
    },
    {
      "cell_type": "code",
      "source": [
        "def show_image(image, title='noname'):\n",
        "    image_rgb = cv2.cvtColor(image, cv2.COLOR_BGR2RGB)  # BGR을 RGB로 변환\n",
        "\n",
        "    plt.imshow(image_rgb)\n",
        "    plt.title(title)\n",
        "    plt.axis('off')  # 축 제거\n",
        "    plt.show()"
      ],
      "outputs": [],
      "execution_count": null,
      "metadata": {
        "jupyter": {
          "source_hidden": false,
          "outputs_hidden": false
        },
        "nteract": {
          "transient": {
            "deleting": false
          }
        },
        "gather": {
          "logged": 1730115927289
        }
      }
    },
    {
      "cell_type": "code",
      "source": [],
      "outputs": [],
      "execution_count": null,
      "metadata": {
        "jupyter": {
          "source_hidden": false,
          "outputs_hidden": false
        },
        "nteract": {
          "transient": {
            "deleting": false
          }
        },
        "gather": {
          "logged": 1730115946782
        }
      }
    },
    {
      "cell_type": "markdown",
      "source": [
        "# 이미지 변환 실습"
      ],
      "metadata": {
        "nteract": {
          "transient": {
            "deleting": false
          }
        }
      }
    },
    {
      "cell_type": "markdown",
      "source": [
        "## 이미지 크기 조정"
      ],
      "metadata": {
        "nteract": {
          "transient": {
            "deleting": false
          }
        }
      }
    },
    {
      "cell_type": "code",
      "source": [
        "\n",
        "show_image(resized_image, \"Resized Image\")"
      ],
      "outputs": [],
      "execution_count": null,
      "metadata": {
        "jupyter": {
          "source_hidden": false,
          "outputs_hidden": false
        },
        "nteract": {
          "transient": {
            "deleting": false
          }
        },
        "gather": {
          "logged": 1730116158716
        }
      }
    },
    {
      "cell_type": "markdown",
      "source": [
        "## 이미지 회전"
      ],
      "metadata": {
        "nteract": {
          "transient": {
            "deleting": false
          }
        }
      }
    },
    {
      "cell_type": "code",
      "source": [
        "\n",
        "show_image(rotated_image, \"Rotated Image\")"
      ],
      "outputs": [],
      "execution_count": null,
      "metadata": {
        "jupyter": {
          "source_hidden": false,
          "outputs_hidden": false
        },
        "nteract": {
          "transient": {
            "deleting": false
          }
        },
        "gather": {
          "logged": 1730116177590
        }
      }
    },
    {
      "cell_type": "markdown",
      "source": [
        "## 이미지 뒤집기"
      ],
      "metadata": {
        "nteract": {
          "transient": {
            "deleting": false
          }
        }
      }
    },
    {
      "cell_type": "markdown",
      "source": [
        "#### 좌우 뒤집기"
      ],
      "metadata": {
        "nteract": {
          "transient": {
            "deleting": false
          }
        }
      }
    },
    {
      "cell_type": "code",
      "source": [
        "  \n",
        "show_image(flipped_image, \"Flipped Image\")"
      ],
      "outputs": [],
      "execution_count": null,
      "metadata": {
        "jupyter": {
          "source_hidden": false,
          "outputs_hidden": false
        },
        "nteract": {
          "transient": {
            "deleting": false
          }
        },
        "gather": {
          "logged": 1730116284966
        }
      }
    },
    {
      "cell_type": "markdown",
      "source": [
        "#### 상하 뒤집기"
      ],
      "metadata": {
        "nteract": {
          "transient": {
            "deleting": false
          }
        }
      }
    },
    {
      "cell_type": "code",
      "source": [
        "\n",
        "show_image(flipped_image, \"Flipped Image\")"
      ],
      "outputs": [],
      "execution_count": null,
      "metadata": {
        "jupyter": {
          "source_hidden": false,
          "outputs_hidden": false
        },
        "nteract": {
          "transient": {
            "deleting": false
          }
        },
        "gather": {
          "logged": 1730116326565
        }
      }
    },
    {
      "cell_type": "markdown",
      "source": [
        "## 크롭"
      ],
      "metadata": {
        "nteract": {
          "transient": {
            "deleting": false
          }
        }
      }
    },
    {
      "cell_type": "markdown",
      "source": [
        "#### 특정 영역 크롭"
      ],
      "metadata": {
        "nteract": {
          "transient": {
            "deleting": false
          }
        }
      }
    },
    {
      "cell_type": "code",
      "source": [
        "print(\"Shape : \", image.shape)  # 이미지 형상 확인"
      ],
      "outputs": [],
      "execution_count": null,
      "metadata": {
        "jupyter": {
          "source_hidden": false,
          "outputs_hidden": false
        },
        "nteract": {
          "transient": {
            "deleting": false
          }
        },
        "gather": {
          "logged": 1730116768197
        }
      }
    },
    {
      "cell_type": "code",
      "source": [
        "\n",
        "\n",
        "show_image(cropped_image, \"Cropped Image\")"
      ],
      "outputs": [],
      "execution_count": null,
      "metadata": {
        "jupyter": {
          "source_hidden": false,
          "outputs_hidden": false
        },
        "nteract": {
          "transient": {
            "deleting": false
          }
        },
        "gather": {
          "logged": 1730116772143
        }
      }
    },
    {
      "cell_type": "markdown",
      "source": [
        "#### 랜덤 크롭"
      ],
      "metadata": {
        "nteract": {
          "transient": {
            "deleting": false
          }
        }
      }
    },
    {
      "cell_type": "code",
      "source": [
        "import random\n",
        "H, W = image.shape[:2]\n",
        "crop_size = 1000  # 크롭할 영역 크기\n",
        "x = random.randint(0, W - crop_size) # 크롭 시작 좌표 (임의의 위치)\n",
        "y = random.randint(0, H - crop_size)\n",
        "cropped_image = image[y:y+crop_size, x:x+crop_size]\n",
        "show_image(cropped_image, \"Cropped Image\")"
      ],
      "outputs": [],
      "execution_count": null,
      "metadata": {
        "jupyter": {
          "source_hidden": false,
          "outputs_hidden": false
        },
        "nteract": {
          "transient": {
            "deleting": false
          }
        },
        "gather": {
          "logged": 1730116784529
        }
      }
    },
    {
      "cell_type": "markdown",
      "source": [
        "#### 랜덤 크롭 후 크기 조정"
      ],
      "metadata": {
        "nteract": {
          "transient": {
            "deleting": false
          }
        }
      }
    },
    {
      "cell_type": "code",
      "source": [
        "def random_crop_and_resize(image, crop_size, resize_size):\n",
        "    H, W = image.shape[:2]\n",
        "    x = random.randint(0, W - crop_size)  # 크롭 시작 좌표 (임의의 위치)\n",
        "    y = random.randint(0, H - crop_size)\n",
        "\n",
        "    cropped_image = image[y:y+crop_size, x:x+crop_size]\n",
        "    resized_image = cv2.resize(cropped_image, (resize_size, resize_size))\n",
        "\n",
        "    return resized_image"
      ],
      "outputs": [],
      "execution_count": null,
      "metadata": {
        "jupyter": {
          "source_hidden": false,
          "outputs_hidden": false
        },
        "nteract": {
          "transient": {
            "deleting": false
          }
        },
        "gather": {
          "logged": 1730116806623
        }
      }
    },
    {
      "cell_type": "code",
      "source": [
        "crop_size = 1000    # 크롭할 영역의 크기 (1000x1000)\n",
        "resize_size = 2000  # 리사이즈할 최종 크기 (2000x2000)\n",
        "result_image = random_crop_and_resize(image, crop_size, resize_size)\n",
        "show_image(result_image, \"Random Cropped and Resized Image\")"
      ],
      "outputs": [],
      "execution_count": null,
      "metadata": {
        "jupyter": {
          "source_hidden": false,
          "outputs_hidden": false
        },
        "nteract": {
          "transient": {
            "deleting": false
          }
        },
        "gather": {
          "logged": 1730116808851
        }
      }
    },
    {
      "cell_type": "markdown",
      "source": [
        "## 밝기 및 대비"
      ],
      "metadata": {
        "nteract": {
          "transient": {
            "deleting": false
          }
        }
      }
    },
    {
      "cell_type": "code",
      "source": [
        "#alpha = 1.0; beta =  50  # 1. 밝기 증가 (beta  =  50)\n",
        "#alpha = 1.0; beta = -50  # 2. 밝기 감소 (beta  = -50)\n",
        "#alpha = 1.5; beta =   0  # 3. 대비 증가 (alpha = 1.5)\n",
        "alpha = 0.5; beta =   0  # 4. 대비 감소 (alpha = 0.5)\n",
        "\n",
        "\n",
        "show_image(adjusted_image, f'Adjusted Image ({alpha}, {beta})')"
      ],
      "outputs": [],
      "execution_count": null,
      "metadata": {
        "jupyter": {
          "source_hidden": false,
          "outputs_hidden": false
        },
        "nteract": {
          "transient": {
            "deleting": false
          }
        },
        "gather": {
          "logged": 1729952551153
        }
      }
    },
    {
      "cell_type": "markdown",
      "source": [
        "## 히스토그램"
      ],
      "metadata": {
        "nteract": {
          "transient": {
            "deleting": false
          }
        }
      }
    },
    {
      "cell_type": "markdown",
      "source": [
        "#### 히스토그램 시각화 함수"
      ],
      "metadata": {
        "nteract": {
          "transient": {
            "deleting": false
          }
        }
      }
    },
    {
      "cell_type": "code",
      "source": [
        "# 히스토그램 시각화를 위한 함수\n",
        "def plot_histogram(img, title):\n",
        "    plt.figure()\n",
        "    plt.title(title)\n",
        "    plt.hist(img.ravel(), 256, [0, 256])\n",
        "    plt.xlabel(\"Pixel Intensity\")\n",
        "    plt.ylabel(\"Frequency\")\n",
        "    plt.show()"
      ],
      "outputs": [],
      "execution_count": null,
      "metadata": {
        "jupyter": {
          "source_hidden": false,
          "outputs_hidden": false
        },
        "nteract": {
          "transient": {
            "deleting": false
          }
        },
        "gather": {
          "logged": 1730117468565
        }
      }
    },
    {
      "cell_type": "markdown",
      "source": [
        "#### 히스토그램 그리기"
      ],
      "metadata": {
        "nteract": {
          "transient": {
            "deleting": false
          }
        }
      }
    },
    {
      "cell_type": "code",
      "source": [
        "gray_image = cv2.cvtColor(image, cv2.COLOR_BGR2GRAY)\n",
        "plot_histogram(gray_image, \"Original Image Histogram\")"
      ],
      "outputs": [],
      "execution_count": null,
      "metadata": {
        "jupyter": {
          "source_hidden": false,
          "outputs_hidden": false
        },
        "nteract": {
          "transient": {
            "deleting": false
          }
        },
        "gather": {
          "logged": 1730071791768
        }
      }
    },
    {
      "cell_type": "markdown",
      "source": [
        "#### 히스토그램 평활화"
      ],
      "metadata": {
        "nteract": {
          "transient": {
            "deleting": false
          }
        }
      }
    },
    {
      "cell_type": "code",
      "source": [
        "gray_image = cv2.cvtColor(image, cv2.COLOR_BGR2GRAY)\n",
        "\n",
        "\n",
        "plot_histogram(equalized_image, \"Equalized Image Histogram\")\n",
        "show_image(equalized_image, \"Histogram Equalized Image\")"
      ],
      "outputs": [],
      "execution_count": null,
      "metadata": {
        "jupyter": {
          "source_hidden": false,
          "outputs_hidden": false
        },
        "nteract": {
          "transient": {
            "deleting": false
          }
        },
        "gather": {
          "logged": 1730117562765
        }
      }
    },
    {
      "cell_type": "markdown",
      "source": [
        "#### 히스토그램 평활화 (컬러 이미지)"
      ],
      "metadata": {
        "nteract": {
          "transient": {
            "deleting": false
          }
        }
      }
    },
    {
      "cell_type": "code",
      "source": [
        "# YUV 색 공간으로 변환\n",
        "yuv_img = cv2.cvtColor(image, cv2.COLOR_BGR2YUV)\n",
        "\n",
        "# 밝기 채널에 히스토그램 평활화 적용\n",
        "yuv_img[:, :, 0] = cv2.equalizeHist(yuv_img[:, :, 0])\n",
        "\n",
        "# RGB 색 공간으로 다시 변환\n",
        "equalized_img = cv2.cvtColor(yuv_img, cv2.COLOR_YUV2BGR)\n",
        "\n",
        "# 결과 이미지 저장 또는 표시\n",
        "show_image(equalized_img, 'Equalized Image')"
      ],
      "outputs": [],
      "execution_count": null,
      "metadata": {
        "jupyter": {
          "source_hidden": false,
          "outputs_hidden": false
        },
        "nteract": {
          "transient": {
            "deleting": false
          }
        },
        "gather": {
          "logged": 1730119419150
        }
      }
    },
    {
      "cell_type": "markdown",
      "source": [
        "#### 적응형 히스토그램 평활화 (CLAHE)"
      ],
      "metadata": {
        "nteract": {
          "transient": {
            "deleting": false
          }
        }
      }
    },
    {
      "cell_type": "code",
      "source": [
        "yuv = cv2.cvtColor(image, cv2.COLOR_BGR2YUV)\n",
        "clahe = \n",
        "\n",
        "clahe_image = cv2.cvtColor(yuv, cv2.COLOR_YUV2BGR)   # BGR 색 공간으로 다시 변환\n",
        "show_image(clahe_image, 'Equalized Image (CLAHE)')"
      ],
      "outputs": [],
      "execution_count": null,
      "metadata": {
        "jupyter": {
          "source_hidden": false,
          "outputs_hidden": false
        },
        "nteract": {
          "transient": {
            "deleting": false
          }
        }
      }
    },
    {
      "cell_type": "markdown",
      "source": [
        "## 이진화"
      ],
      "metadata": {
        "nteract": {
          "transient": {
            "deleting": false
          }
        }
      }
    },
    {
      "cell_type": "markdown",
      "source": [
        "#### THRESHOLD BINARY"
      ],
      "metadata": {
        "nteract": {
          "transient": {
            "deleting": false
          }
        }
      }
    },
    {
      "cell_type": "code",
      "source": [
        "gray_image = cv2.cvtColor(image, cv2.COLOR_BGR2GRAY)\n",
        "_, binary_image = \n",
        "show_image(binary_image, 'Binary Image')"
      ],
      "outputs": [],
      "execution_count": null,
      "metadata": {
        "jupyter": {
          "source_hidden": false,
          "outputs_hidden": false
        },
        "nteract": {
          "transient": {
            "deleting": false
          }
        },
        "gather": {
          "logged": 1730037836370
        }
      }
    },
    {
      "cell_type": "markdown",
      "source": [
        "#### THRESHOLD BINARY INV"
      ],
      "metadata": {
        "nteract": {
          "transient": {
            "deleting": false
          }
        }
      }
    },
    {
      "cell_type": "code",
      "source": [
        "gray_image = cv2.cvtColor(image, cv2.COLOR_BGR2GRAY)\n",
        "_, binary_image = \n",
        "show_image(binary_image, 'Binary Image(INV)')"
      ],
      "outputs": [],
      "execution_count": null,
      "metadata": {
        "jupyter": {
          "source_hidden": false,
          "outputs_hidden": false
        },
        "nteract": {
          "transient": {
            "deleting": false
          }
        },
        "gather": {
          "logged": 1730038000916
        }
      }
    },
    {
      "cell_type": "markdown",
      "source": [
        "#### THRESHOLD BINARY TRUNC"
      ],
      "metadata": {
        "nteract": {
          "transient": {
            "deleting": false
          }
        }
      }
    },
    {
      "cell_type": "code",
      "source": [
        "gray_image = cv2.cvtColor(image, cv2.COLOR_BGR2GRAY)\n",
        "_, binary_image = \n",
        "show_image(binary_image, 'Binary Image(TRUNC)')"
      ],
      "outputs": [],
      "execution_count": null,
      "metadata": {
        "jupyter": {
          "source_hidden": false,
          "outputs_hidden": false
        },
        "nteract": {
          "transient": {
            "deleting": false
          }
        },
        "gather": {
          "logged": 1730038129702
        }
      }
    },
    {
      "cell_type": "markdown",
      "source": [
        "#### THRESHOLD BINARY TOZERO"
      ],
      "metadata": {
        "nteract": {
          "transient": {
            "deleting": false
          }
        }
      }
    },
    {
      "cell_type": "code",
      "source": [
        "gray_image = cv2.cvtColor(image, cv2.COLOR_BGR2GRAY)\n",
        "_, binary_image = \n",
        "show_image(binary_image, 'Binary Image(TOZERO)')"
      ],
      "outputs": [],
      "execution_count": null,
      "metadata": {
        "jupyter": {
          "source_hidden": false,
          "outputs_hidden": false
        },
        "nteract": {
          "transient": {
            "deleting": false
          }
        },
        "gather": {
          "logged": 1730068823709
        }
      }
    },
    {
      "cell_type": "markdown",
      "source": [
        "#### 이진화 임계값 찾기 THRESHOLD OTSU"
      ],
      "metadata": {
        "nteract": {
          "transient": {
            "deleting": false
          }
        }
      }
    },
    {
      "cell_type": "code",
      "source": [
        "gray_image = cv2.cvtColor(image, cv2.COLOR_BGR2GRAY)\n",
        "_, otsu_image = \n",
        "show_image(otsu_image, \"Otsu's Thresholding\")"
      ],
      "outputs": [],
      "execution_count": null,
      "metadata": {
        "jupyter": {
          "source_hidden": false,
          "outputs_hidden": false
        },
        "nteract": {
          "transient": {
            "deleting": false
          }
        },
        "gather": {
          "logged": 1730068873834
        }
      }
    },
    {
      "cell_type": "markdown",
      "source": [
        "## 적응형 이진화"
      ],
      "metadata": {
        "nteract": {
          "transient": {
            "deleting": false
          }
        }
      }
    },
    {
      "cell_type": "markdown",
      "source": [
        "#### Adaptive threshold - Mean"
      ],
      "metadata": {
        "nteract": {
          "transient": {
            "deleting": false
          }
        }
      }
    },
    {
      "cell_type": "code",
      "source": [
        "gray_image = cv2.cvtColor(image, cv2.COLOR_BGR2GRAY)\n",
        "adaptive_mean = \n",
        "show_image(adaptive_mean, \"Adaptive Mean Thresholding\")"
      ],
      "outputs": [],
      "execution_count": null,
      "metadata": {
        "jupyter": {
          "source_hidden": false,
          "outputs_hidden": false
        },
        "nteract": {
          "transient": {
            "deleting": false
          }
        },
        "gather": {
          "logged": 1730118547353
        }
      }
    },
    {
      "cell_type": "markdown",
      "source": [
        "#### Adaptive threshold - Gaussian"
      ],
      "metadata": {
        "nteract": {
          "transient": {
            "deleting": false
          }
        }
      }
    },
    {
      "cell_type": "code",
      "source": [
        "gray_image = cv2.cvtColor(image, cv2.COLOR_BGR2GRAY)\n",
        "adaptive_gaussian = \n",
        "show_image(adaptive_gaussian, \"Adaptive Gaussian Thresholding\")"
      ],
      "outputs": [],
      "execution_count": null,
      "metadata": {
        "jupyter": {
          "source_hidden": false,
          "outputs_hidden": false
        },
        "nteract": {
          "transient": {
            "deleting": false
          }
        },
        "gather": {
          "logged": 1730070345517
        }
      }
    },
    {
      "cell_type": "markdown",
      "source": [
        "## 블러"
      ],
      "metadata": {
        "nteract": {
          "transient": {
            "deleting": false
          }
        }
      }
    },
    {
      "cell_type": "markdown",
      "source": [
        "#### 평균 블러, 미디언 블러, 가우시안 블러"
      ],
      "metadata": {
        "nteract": {
          "transient": {
            "deleting": false
          }
        }
      }
    },
    {
      "cell_type": "code",
      "source": [
        "#blurred_image = cv2.blur(image, (5, 5)) # 평균 블러 (필터크기)\n",
        "#blurred_image = cv2.medianBlur(image, 5) # 미디언 블러 (필터크기)\n",
        "blurred_image = cv2.GaussianBlur(image, (5, 5), 0) # 가우시안 블러 (필터크기, sigmaX)\n",
        "show_image(blurred_image, \"Blurred Image\")"
      ],
      "outputs": [],
      "execution_count": null,
      "metadata": {
        "jupyter": {
          "source_hidden": false,
          "outputs_hidden": false
        },
        "nteract": {
          "transient": {
            "deleting": false
          }
        },
        "gather": {
          "logged": 1730120444831
        }
      }
    },
    {
      "cell_type": "markdown",
      "source": [
        "#### 모션 블러"
      ],
      "metadata": {
        "nteract": {
          "transient": {
            "deleting": false
          }
        }
      }
    },
    {
      "cell_type": "code",
      "source": [
        "import numpy as np\n",
        "\n",
        "# 모션 블러 커널 생성 (크기가 클수록 블러 효과가 더 강해짐)\n",
        "kernel_size = 120  # 모션 블러 커널 크기\n",
        "kernel = np.zeros((kernel_size, kernel_size))\n",
        "\n",
        "# 대각선 방향으로 1을 채워서 모션 블러 커널 생성\n",
        "np.fill_diagonal(kernel, 1)\n",
        "kernel = kernel / kernel_size  # 블러 강도 조절\n",
        "\n",
        "motion_blurred_image = cv2.filter2D(image, -1, kernel)\n",
        "show_image(motion_blurred_image, \"Motion Blurred Image\")"
      ],
      "outputs": [],
      "execution_count": null,
      "metadata": {
        "jupyter": {
          "source_hidden": false,
          "outputs_hidden": false
        },
        "nteract": {
          "transient": {
            "deleting": false
          }
        },
        "gather": {
          "logged": 1730120451436
        }
      }
    },
    {
      "cell_type": "markdown",
      "source": [
        "## 노이즈 추가"
      ],
      "metadata": {
        "nteract": {
          "transient": {
            "deleting": false
          }
        }
      }
    },
    {
      "cell_type": "markdown",
      "source": [
        "#### Gaussian Noise"
      ],
      "metadata": {
        "nteract": {
          "transient": {
            "deleting": false
          }
        }
      }
    },
    {
      "cell_type": "code",
      "source": [
        "# 가우시안 노이즈 생성\n",
        "mean = 0\n",
        "stddev = 25  # 표준편차를 조정해 노이즈의 강도를 변경\n",
        "gaussian_noise = np.random.normal(mean, stddev, image.shape).astype(np.float32)\n",
        "\n",
        "# 이미지에 노이즈 추가\n",
        "G_noisy_image = \n",
        "G_noisy_image = np.clip(noisy_image, 0, 255).astype(np.uint8)\n",
        "show_image(G_noisy_image, 'Noisy Image (Gaussian)')"
      ],
      "outputs": [],
      "execution_count": null,
      "metadata": {
        "jupyter": {
          "source_hidden": false,
          "outputs_hidden": false
        },
        "nteract": {
          "transient": {
            "deleting": false
          }
        },
        "gather": {
          "logged": 1730122645912
        }
      }
    },
    {
      "cell_type": "markdown",
      "source": [
        "#### Speckle Noise"
      ],
      "metadata": {
        "nteract": {
          "transient": {
            "deleting": false
          }
        }
      }
    },
    {
      "cell_type": "code",
      "source": [
        "H, W, C = image.shape\n",
        "speckle_noise = \n",
        "speckle_noise = np.clip(speckle_noise, 0, 255).astype(np.uint8)\n",
        "show_image(speckle_noise, 'Noisy Image (Speckle)')"
      ],
      "outputs": [],
      "execution_count": null,
      "metadata": {
        "jupyter": {
          "source_hidden": false,
          "outputs_hidden": false
        },
        "nteract": {
          "transient": {
            "deleting": false
          }
        },
        "gather": {
          "logged": 1730121602945
        }
      }
    },
    {
      "cell_type": "markdown",
      "source": [
        "#### Salt & Pepper Noise"
      ],
      "metadata": {
        "nteract": {
          "transient": {
            "deleting": false
          }
        }
      }
    },
    {
      "cell_type": "code",
      "source": [
        "prob = 0.25  # 25% 확률로 노이즈 추가\n",
        "SP_noisy_image = np.copy(image)\n",
        "\n",
        "# 소금(흰색) 노이즈 추가\n",
        "num_salt = np.ceil(prob * image.size * 0.5).astype(int)  # 50%를 소금 노이즈로 사용\n",
        "coords = [np.random.randint(0, i - 1, num_salt) for i in image.shape]\n",
        "SP_noisy_image[coords[0], coords[1], :] = 255\n",
        "\n",
        "# 후추(검은색) 노이즈 추가\n",
        "num_pepper = np.ceil(prob * image.size * 0.5).astype(int)  # 50%를 후추 노이즈로 사용\n",
        "coords = [np.random.randint(0, i - 1, num_pepper) for i in image.shape]\n",
        "SP_noisy_image[coords[0], coords[1], :] = 0\n",
        "\n",
        "show_image(SP_noisy_image, 'Noisy Image (Salt&Pepper)')"
      ],
      "outputs": [],
      "execution_count": null,
      "metadata": {
        "jupyter": {
          "source_hidden": false,
          "outputs_hidden": false
        },
        "nteract": {
          "transient": {
            "deleting": false
          }
        },
        "gather": {
          "logged": 1730122004410
        }
      }
    },
    {
      "cell_type": "markdown",
      "source": [
        "## 노이즈 제거"
      ],
      "metadata": {
        "nteract": {
          "transient": {
            "deleting": false
          }
        }
      }
    },
    {
      "cell_type": "markdown",
      "source": [
        "#### 소금 후추 노이즈 제거 - 미디언 블러"
      ],
      "metadata": {
        "nteract": {
          "transient": {
            "deleting": false
          }
        }
      }
    },
    {
      "cell_type": "code",
      "source": [
        "median_blur = \n",
        "show_image(median_blur, 'Median Blur(Salt&Pepper)')"
      ],
      "outputs": [],
      "execution_count": null,
      "metadata": {
        "jupyter": {
          "source_hidden": false,
          "outputs_hidden": false
        },
        "nteract": {
          "transient": {
            "deleting": false
          }
        },
        "gather": {
          "logged": 1730122861972
        }
      }
    },
    {
      "cell_type": "markdown",
      "source": [
        "## 엣지 검출 (Canny)"
      ],
      "metadata": {
        "nteract": {
          "transient": {
            "deleting": false
          }
        }
      }
    },
    {
      "cell_type": "markdown",
      "source": [
        "#### Canny"
      ],
      "metadata": {
        "nteract": {
          "transient": {
            "deleting": false
          }
        }
      }
    },
    {
      "cell_type": "code",
      "source": [
        "gray_image = cv2.cvtColor(image, cv2.COLOR_BGR2GRAY)\n",
        "edges = \n",
        "show_image(edges, \"Edge Detection\")"
      ],
      "outputs": [],
      "execution_count": null,
      "metadata": {
        "jupyter": {
          "source_hidden": false,
          "outputs_hidden": false
        },
        "nteract": {
          "transient": {
            "deleting": false
          }
        },
        "gather": {
          "logged": 1730123498150
        }
      }
    },
    {
      "cell_type": "markdown",
      "source": [
        "#### Sobel (경계 감지)"
      ],
      "metadata": {
        "nteract": {
          "transient": {
            "deleting": false
          }
        }
      }
    },
    {
      "cell_type": "code",
      "source": [
        "import numpy as np\n",
        "sobel_x = cv2.Sobel(image, cv2.CV_64F, 1, 0, ksize=3)  # X 방향 경계\n",
        "sobel_y = cv2.Sobel(image, cv2.CV_64F, 0, 1, ksize=3)  # Y 방향 경계\n",
        "sobel_x = cv2.convertScaleAbs(sobel_x)\n",
        "sobel_y = cv2.convertScaleAbs(sobel_y)\n",
        "sobel_combined = cv2.magnitude(sobel_x.astype(np.float32), sobel_y.astype(np.float32))\n",
        "sobel_combined = cv2.convertScaleAbs(sobel_combined)\n",
        "\n",
        "show_image(sobel_x, \"Sobel - X Direction\")\n",
        "show_image(sobel_y, \"Sobel - Y Direction\")\n",
        "show_image(sobel_combined, \"Sobel - Combined\")"
      ],
      "outputs": [],
      "execution_count": null,
      "metadata": {
        "jupyter": {
          "source_hidden": false,
          "outputs_hidden": false
        },
        "nteract": {
          "transient": {
            "deleting": false
          }
        },
        "gather": {
          "logged": 1730123635490
        }
      }
    },
    {
      "cell_type": "markdown",
      "source": [
        "#### Embossing"
      ],
      "metadata": {
        "nteract": {
          "transient": {
            "deleting": false
          }
        }
      }
    },
    {
      "cell_type": "code",
      "source": [
        "gray_image = cv2.cvtColor(image, cv2.COLOR_BGR2GRAY)\n",
        "equalized_image = cv2.equalizeHist(gray_image)\n",
        "emboss_kernel = np.array([[-1, -1, 0],\n",
        "                          [-1, 0, 1],\n",
        "                          [0, 1, 1]])\n",
        "embossed = \n",
        "show_image(embossed, \"Embossed Image\")"
      ],
      "outputs": [],
      "execution_count": null,
      "metadata": {
        "jupyter": {
          "source_hidden": false,
          "outputs_hidden": false
        },
        "nteract": {
          "transient": {
            "deleting": false
          }
        },
        "gather": {
          "logged": 1730124017885
        }
      }
    },
    {
      "cell_type": "markdown",
      "source": [
        "## Zero-centering"
      ],
      "metadata": {
        "nteract": {
          "transient": {
            "deleting": false
          }
        }
      }
    },
    {
      "cell_type": "markdown",
      "source": [
        "#### 컬러 이미지 Zero-centering"
      ],
      "metadata": {
        "nteract": {
          "transient": {
            "deleting": false
          }
        }
      }
    },
    {
      "cell_type": "code",
      "source": [
        "mean_values = np.mean(image, axis=(0, 1))\n",
        "\n",
        "# zero-centering: 각 채널에서 평균값 빼기\n",
        "zero_centered_image = image - mean_values\n",
        "\n",
        "# 결과 확인을 위한 스케일링 (이미지 출력 시 양수로 변환)\n",
        "zero_centered_image = cv2.normalize(zero_centered_image, None, 0, 255, cv2.NORM_MINMAX).astype(np.uint8)\n",
        "show_image(zero_centered_image, \"Zero Centered Image\")"
      ],
      "outputs": [],
      "execution_count": null,
      "metadata": {
        "jupyter": {
          "source_hidden": false,
          "outputs_hidden": false
        },
        "nteract": {
          "transient": {
            "deleting": false
          }
        }
      }
    },
    {
      "cell_type": "markdown",
      "source": [
        "#### 그레이스케일 이미지 Zero-centering"
      ],
      "metadata": {
        "nteract": {
          "transient": {
            "deleting": false
          }
        }
      }
    },
    {
      "cell_type": "code",
      "source": [
        "gray_image = cv2.cvtColor(image, cv2.COLOR_BGR2GRAY)\n",
        "\n",
        "# 이미지의 평균값 계산\n",
        "mean_value = np.mean(gray_image)\n",
        "\n",
        "# zero-centering: 이미지의 각 픽셀에서 평균값 빼기\n",
        "zero_centered_image = gray_image - mean_value\n",
        "\n",
        "# 결과 확인을 위한 스케일링 (이미지 출력 시 양수로 변환)\n",
        "zero_centered_image = cv2.normalize(zero_centered_image, None, 0, 255, cv2.NORM_MINMAX).astype(np.uint8)\n",
        "show_image(zero_centered_image, \"Zero Centered Image\")"
      ],
      "outputs": [],
      "execution_count": null,
      "metadata": {
        "jupyter": {
          "source_hidden": false,
          "outputs_hidden": false
        },
        "nteract": {
          "transient": {
            "deleting": false
          }
        }
      }
    },
    {
      "cell_type": "markdown",
      "source": [
        "## 배경 제거"
      ],
      "metadata": {
        "nteract": {
          "transient": {
            "deleting": false
          }
        }
      }
    },
    {
      "cell_type": "code",
      "source": [
        "mask = np.zeros(image.shape[:2], np.uint8)\n",
        "bgd_model = np.zeros((1, 65), np.float64)\n",
        "fgd_model = np.zeros((1, 65), np.float64)\n",
        "\n",
        "# ROI 설정 (배경/전경 구분할 초기 사각형 설정)\n",
        "rect = (50, 50, image.shape[1] - 50, image.shape[0] - 50)  # (x, y, width, height)\n",
        "\n",
        "# GrabCut 적용\n",
        "\n",
        "\n",
        "# 전경 및 배경 마스크 생성\n",
        "mask2 = np.where((mask == 2) | (mask == 0), 0, 1).astype(\"uint8\")\n",
        "foreground = image * mask2[:, :, np.newaxis]\n",
        "show_image(foreground, \"Background Removed\")"
      ],
      "outputs": [],
      "execution_count": null,
      "metadata": {
        "jupyter": {
          "source_hidden": false,
          "outputs_hidden": false
        },
        "nteract": {
          "transient": {
            "deleting": false
          }
        }
      }
    },
    {
      "cell_type": "markdown",
      "source": [
        "# 추가 실습"
      ],
      "metadata": {
        "nteract": {
          "transient": {
            "deleting": false
          }
        }
      }
    },
    {
      "cell_type": "markdown",
      "source": [
        "## 얼굴 검출"
      ],
      "metadata": {
        "nteract": {
          "transient": {
            "deleting": false
          }
        }
      }
    },
    {
      "cell_type": "code",
      "source": [
        "# 이미지 로드\n",
        "image = cv2.imread('face_image.jpg')\n",
        "\n",
        "# 얼굴 검출을 위한 Haar Cascade 파일 로드\n",
        "face_cascade = cv2.CascadeClassifier(cv2.data.haarcascades + 'haarcascade_frontalface_default.xml')\n",
        "\n",
        "gray_image = cv2.cvtColor(image, cv2.COLOR_BGR2GRAY)  # 얼굴 검출을 위해 그레이스케일로 변환\n",
        "\n",
        "# 얼굴 검출 수행\n",
        "faces = face_cascade.detectMultiScale(\n",
        "    gray_image,\n",
        "    scaleFactor=1.1,  # 이미지 축소 비율 (1보다 크면 더 많은 얼굴을 검출)\n",
        "    minNeighbors=5,   # 최소 이웃 수 (작을수록 더 많은 얼굴을 검출)\n",
        "    minSize=(30, 30)  # 검출할 얼굴의 최소 크기\n",
        ")\n",
        "\n",
        "# 얼굴 위치에 사각형 그리기\n",
        "for (x, y, w, h) in faces:\n",
        "    cv2.rectangle(image, (x, y), (x+w, y+h), (255, 0, 0), 15)\n",
        "\n",
        "show_image(image, \"Face Detection\")"
      ],
      "outputs": [],
      "execution_count": null,
      "metadata": {
        "jupyter": {
          "source_hidden": false,
          "outputs_hidden": false
        },
        "nteract": {
          "transient": {
            "deleting": false
          }
        },
        "gather": {
          "logged": 1729929427956
        }
      }
    }
  ],
  "metadata": {
    "kernelspec": {
      "name": "python310-sdkv2",
      "language": "python",
      "display_name": "Python 3.10 - SDK v2"
    },
    "language_info": {
      "name": "python",
      "version": "3.10.14",
      "mimetype": "text/x-python",
      "codemirror_mode": {
        "name": "ipython",
        "version": 3
      },
      "pygments_lexer": "ipython3",
      "nbconvert_exporter": "python",
      "file_extension": ".py"
    },
    "microsoft": {
      "ms_spell_check": {
        "ms_spell_check_language": "en"
      },
      "host": {
        "AzureML": {
          "notebookHasBeenCompleted": true
        }
      }
    },
    "kernel_info": {
      "name": "python310-sdkv2"
    },
    "nteract": {
      "version": "nteract-front-end@1.0.0"
    }
  },
  "nbformat": 4,
  "nbformat_minor": 2
}